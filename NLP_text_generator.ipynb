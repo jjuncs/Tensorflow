{
  "cells": [
    {
      "cell_type": "markdown",
      "metadata": {
        "id": "view-in-github",
        "colab_type": "text"
      },
      "source": [
        "<a href=\"https://colab.research.google.com/github/jjuncs/Tensorflow/blob/main/NLP_text_generator.ipynb\" target=\"_parent\"><img src=\"https://colab.research.google.com/assets/colab-badge.svg\" alt=\"Open In Colab\"/></a>"
      ]
    },
    {
      "cell_type": "markdown",
      "metadata": {
        "id": "nzTm5WqARTu6"
      },
      "source": [
        "# 8장. 텐서플로로 텍스트 생성하기"
      ]
    },
    {
      "cell_type": "markdown",
      "metadata": {
        "id": "cst1URddRTu9"
      },
      "source": [
        "<table class=\"tfo-notebook-buttons\" align=\"left\">\n",
        "  <td>\n",
        "    <a target=\"_blank\" href=\"https://nbviewer.jupyter.org/github/rickiepark/aiml4coders/blob/main/ch08/08-text-generation.ipynb\"><img src=\"https://jupyter.org/assets/share.png\" width=\"61\" />주피터 노트북 뷰어로 보기</a>\n",
        "  </td>\n",
        "  <td>\n",
        "    <a target=\"_blank\" href=\"https://colab.research.google.com/github/rickiepark/aiml4coders/blob/main/ch08/08-text-generation.ipynb\"><img src=\"https://www.tensorflow.org/images/colab_logo_32px.png\" />구글 코랩(Colab)에서 실행하기</a>\n",
        "  </td>\n",
        "</table>"
      ]
    },
    {
      "cell_type": "markdown",
      "metadata": {
        "id": "SOl1yaswRTu9"
      },
      "source": [
        "## 시퀀스를 입력 시퀀스로 변환하기"
      ]
    },
    {
      "cell_type": "code",
      "execution_count": 1,
      "metadata": {
        "id": "OiGClgWtRTu-"
      },
      "outputs": [],
      "source": [
        "import tensorflow as tf\n",
        "\n",
        "from tensorflow.keras.preprocessing.sequence import pad_sequences\n",
        "from tensorflow.keras.layers import Embedding, LSTM, Dense, Bidirectional\n",
        "from tensorflow.keras.preprocessing.text import Tokenizer\n",
        "from tensorflow.keras.models import Sequential\n",
        "from tensorflow.keras.optimizers import Adam\n",
        "import numpy as np"
      ]
    },
    {
      "cell_type": "markdown",
      "metadata": {
        "id": "t8Z5ZrT1RTvE"
      },
      "source": [
        "## 데이터셋 확장"
      ]
    },
    {
      "cell_type": "code",
      "execution_count": 17,
      "metadata": {
        "id": "fnSWcIqjRTvE"
      },
      "outputs": [],
      "source": [
        "#!wget https://storage.googleapis.com/learning-datasets/irish-lyrics-eof.txt"
      ]
    },
    {
      "cell_type": "code",
      "source": [
        "#!wget http://jjun.com/AI/NLP.html"
      ],
      "metadata": {
        "colab": {
          "base_uri": "https://localhost:8080/"
        },
        "id": "lNBRl0Fs3BiW",
        "outputId": "0fe81c2d-f11d-4d18-9061-a41bf0e9171d"
      },
      "execution_count": 2,
      "outputs": [
        {
          "output_type": "stream",
          "name": "stdout",
          "text": [
            "--2023-10-24 14:18:19--  http://jjun.com/AI/NLP.html\n",
            "Resolving jjun.com (jjun.com)... 222.122.86.166\n",
            "Connecting to jjun.com (jjun.com)|222.122.86.166|:80... connected.\n",
            "HTTP request sent, awaiting response... 200 OK\n",
            "Length: 1583 (1.5K) [text/html]\n",
            "Saving to: ‘NLP.html’\n",
            "\n",
            "NLP.html            100%[===================>]   1.55K  --.-KB/s    in 0s      \n",
            "\n",
            "2023-10-24 14:18:19 (244 MB/s) - ‘NLP.html’ saved [1583/1583]\n",
            "\n"
          ]
        }
      ]
    },
    {
      "cell_type": "code",
      "execution_count": 6,
      "metadata": {
        "id": "I2uDJ1AoRTvE"
      },
      "outputs": [],
      "source": [
        "#data = open('irish-lyrics-eof.txt').read()\n",
        "data = open('NLP.txt').read()\n",
        "corpus = data.lower().split(\"\\n\")\n"
      ]
    },
    {
      "cell_type": "code",
      "execution_count": 7,
      "metadata": {
        "id": "yPhSR-GYRTvE",
        "colab": {
          "base_uri": "https://localhost:8080/"
        },
        "outputId": "97b3a910-c4f3-448d-ae4b-792afeca3768"
      },
      "outputs": [
        {
          "output_type": "stream",
          "name": "stdout",
          "text": [
            "{'것': 1, '내': 2, '더': 3, '내가': 4, '수': 5, '난': 6, '좋은': 7, '나은': 8, '한': 9, '나를': 10, '마': 11, '뿐': 12, '최고': 13, '나도': 14, '그냥': 15, '흔들': 16, '말': 17, '한다': 18, '건': 19, '달콤한': 20, '못': 21, '충성을': 22, '다해보자': 23, '당신의': 24, '한마디': 25, '걸': 26, '\\u2003': 27, '말이': 28, '맞았다고': 29, '있어': 30, '쉽게': 31, '없다': 32, '알': 33, '이해': 34, '인생': 35, '그': 36, '함께': 37, '읽기전용': 38, '기억장치': 39, '니가': 40, '좀': 41, '알자': 42, '자유로': 43, '와요': 44, '버렸어': 45, '싶어': 46, '나는': 47, '나나나': 48, '동전을': 49, '받았으니까': 50, '모든': 51, '이': 52, '몸을': 53, '이야기': 54, '사람': 55, '니': 56, '더더더': 57, '때': 58, '않는': 59, '꿈을': 60, '머리의': 61, '저장': 62, '방식': 63, '왜': 64, '없는': 65, '저': 66, '기억의': 67, '번에': 68, '멈출': 69, '너를': 70, '하지만': 71, '기분': 72, '여기선': 73, '집에': 74, '꺼내': 75, '거야': 76, '무심코': 77, '뱉은': 78, '무슨': 79, '수를': 80, '써내서라도': 81, '해내자': 82, '눈덩이처럼': 83, '커지는': 84, '걸어서': 85, '믿고': 86, '싶지': 87, '다른': 88, '머릿속': 89, '절대': 90, '없었어': 91, '시대가': 92, '원해왔던': 93, '원활한': 94, '의사소통능력': 95, '혼잣말하며': 96, '걷고': 97, '진실이': 98, '밝혀질': 99, '땐': 100, '모두가': 101, '잊혀': 102, '버린': 103, '후야': 104, '편이었다고': 105, '귓속말이': 106, '막': 107, '들려왔어': 108, '깊게': 109, '생각해냈지만': 110, '버려졌던': 111, '있는': 112, '것들은': 113, '없이': 114, '되는': 115, '아무것도': 116, '안': 117, '다': 118, '게': 119, '아': 120, '뭐가': 121, '건지': 122, '같기도': 123, '이상한': 124, '그때': 125, '내용이': 126, '집': 127, '당신이': 128, '좋아하는': 129, '그리워하는': 130, '미워하는': 131, '두려워하는': 132, '사람도': 133, '빨간': 134, '그림': 135, '당신을': 136, '재워줘': 137, '배고파': 138, '줘': 139, '이불을': 140, '힘차게': 141, '차올려': 142, '보아도': 143, '고개를': 144, '푹': 145, '파묻어': 146, '베개를': 147, '적셔도': 148, '지워지지': 149, '끝': 150, '또다시': 151, '없어': 152, '제발': 153, '미안하다': 154, '아무래도': 155, '가르치려': 156, '드는': 157, '같이': 158, '소리': 159, '먹지': 160, '지킬': 161, '지켜도': 162, '착하게': 163, '살아도': 164, '리듬': 165, '뭔데': 166, '맡겨': 167, '바로': 168, '1': 169, 'ab': 170, '가사': 171, '없음': 172, '2': 173, '감정노동': 174, '댄스파티': 175, '신나게': 176, '춤추고': 177, '있었던': 178, '그분을': 179, '바라보면서': 180, '잠깐': 181, '딴생각을': 182, '해': 183, '가고': 184, '멋진': 185, '표정': 186, '짓는': 187, '그와': 188, '눈이': 189, '마주친다면': 190, '턱을': 191, '괴던': 192, '손을': 193, '박수를': 194, '칠': 195, '나나나나': 196, '그분이': 197, '잊으시고': 198, '춤추실': 199, '있게': 200, '음악이': 201, '멈추지': 202, '않게': 203, '바쁘게': 204, '움직여': 205, '만약': 206, '실수라도': 207, '하게': 208, '된다면': 209, '어디선가': 210, '조명이': 211, '밝게': 212, '비췄어': 213, '3': 214, '갈릴레오': 215, '않은': 216, '거짓이': 217, '되어': 218, '사라졌어': 219, '생각을': 220, '바꿀': 221, '실수를': 222, '인정하는': 223, '용기': 224, '체면이란': 225, '이름의': 226, '가면': 227, '기억도': 228, '틀릴': 229, '있다': 230, '누구도': 231, '완벽하': 232, '지': 233, '않다': 234, '목소리가': 235, '커야': 236, '발음이': 237, '정확해야': 238, '자신감이': 239, '있어야': 240, '말려들지': 241, '않아야': 242, '세상이': 243, '변했다고': 244, '4': 245, '신제품': 246, '품격': 247, '현대사회를': 248, '살기': 249, '위해': 250, '반드시': 251, '가져야만': 252, '했던': 253, '들': 254, '우리': 255, '시대': 256, '어른들을': 257, '갈아': 258, '넣어': 259, '만든': 260, '최첨단': 261, '제품들을': 262, '골라보자': 263, '저차를': 264, '타게': 265, '되면': 266, '사람이': 267, '될': 268, '특별해진다': 269, '소중한': 270, '위해서': 271, '오래된': 272, '가차': 273, '부숴버려': 274, '회색': 275, '희망을': 276, '쌓아': 277, '올려': 278, '우리가': 279, '잃게': 280, '변화를': 281, '두려워하면': 282, '된다고': 283, '지구는': 284, '새로운': 285, '것들로': 286, '가득': 287, '차있다': 288, '지금은': 289, '찾는': 290, '사람들조차': 291, '갈고닦은': 292, '재능': 293, '써버렸을': 294, '때는': 295, '옛날': 296, '당연하기': 297, '때문': 298, '가진': 299, '쓸모가': 300, '없어져': 301, '새롭다는': 302, '단어마저': 303, '오랜': 304, '느낌이': 305, '풀풀': 306, '났어': 307, '높은': 308, '강한': 309, '빠른': 310, '많은': 311, '더더더더더더더더': 312, '5': 313, '맛': 314, '음식의': 315, '단맛은': 316, '혀끝': 317, '조그만': 318, '부분에': 319, '닿을': 320, '느낄': 321, '있다고': 322, '배웠을': 323, '우리의': 324, '인생도': 325, '그럴': 326, '같다고': 327, '생각했어': 328, '행복은': 329, '잠시뿐이겠구나': 330, '아주': 331, '빨리': 332, '지나가버리겠구나': 333, '돌아와': 334, '냉장고에': 335, '들어있는': 336, '것들': 337, '죄다': 338, '닥치는': 339, '대로': 340, '혓바닥': 341, '위에다': 342, '대어봐도': 343, '딱히': 344, '다르다는': 345, '수가': 346, '달다고': 347, '느끼면': 348, '단거': 349, '짜다고': 350, '믿으면': 351, '그런': 352, '거': 353, '거겠구나': 354, '가지': 355, '답': 356, '계속': 357, '써': 358, '낼': 359, '때마다': 360, '의심은': 361, '줄어들어': 362, '사라져': 363, '이미': 364, '호기심이': 365, '사라졌을': 366, '나이': 367, '알았던': 368, '사실과': 369, '달리': 370, '언젠가': 371, '뉴스에서': 372, '교과서의': 373, '틀렸다는': 374, '이야기를': 375, '들었을': 376, '신': 377, '음식을': 378, '삼킨': 379, '것처럼': 380, '정신이': 381, '번쩍': 382, '나만': 383, '아니었구나': 384, '괜히': 385, '않았었나': 386, '봐': 387, '슬픔이': 388, '기쁨보다': 389, '많을': 390, '거라는': 391, '인생\\u2003': 392, '6': 393, '꽈당소녀': 394, '비둘기': 395, '만지고': 396, '플라스틱': 397, '짓고': 398, '방': 399, '안에서': 400, '활짝': 401, '우산을': 402, '펴': 403, '커튼': 404, '뒤에서': 405, '꿔': 406, '번쯤은': 407, '벽지': 408, '위에': 409, '색연필로': 410, '칠했겠지': 411, '딸기는': 412, '매워': 413, '나무가': 414, '눈물을': 415, '흘려': 416, '뺨을': 417, '부비고': 418, '노래하면': 419, '춤을': 420, '춰': 421, '스마트폰': 422, '보고': 423, '주먹': 424, '쥐고': 425, '그려': 426, '입에': 427, '든': 428, '사탕을': 429, '보아라': 430, '괴물을': 431, '피해': 432, '도망쳐': 433, '언젠가는': 434, '비눗방울': 435, '속에': 436, '갇힌': 437, '꺼내겠지': 438, '이마로': 439, '웃어': 440, '넘어져도': 441, '괜찮아': 442, '빗자루를': 443, '타면': 444, '날아가': 445, '풍선': 446, '불어줘': 447, '책': 448, '읽어줘': 449, '안아줘': 450, '놀아줘': 451, '그네': 452, '밀어줘': 453, '목말라': 454, '그려줘': 455, '색칠해': 456, '호': 457, '해줘': 458, '만들어줘': 459, '공룡': 460, '보여줘': 461, '쉬': 462, '마려': 463, '먹어': 464, '7': 465, '잊어버리고': 466, '싶었던': 467, '기억일수록': 468, '자꾸만': 469, '어제의': 470, '일들처럼': 471, '빨리도': 472, '떠오르네': 473, '언제쯤': 474, '되어야': 475, '잊혀질': 476, '있을지': 477, '수만': 478, '있다면': 479, '오늘': 480, '밤은': 481, '편안하게': 482, '잠들': 483, '있을': 484, '텐데': 485, '않는건지': 486, '지워져': 487, '야할': 488, '기억들은': 489, '그대로': 490, '남아있어': 491, '과거의': 492, '일들까지': 493, '모두': 494, '불러오네': 495, '지난날': 496, '후회': 497, '가득했었던': 498, '일들이': 499, '반복될까': 500, '선택을': 501, '망설이다': 502, '할': 503, '선명한': 504, '화질': 505, '강렬한': 506, '사운드': 507, '너무나도': 508, '생생한': 509, '장면': 510, '복잡한': 511, '회로': 512, '같은': 513, '위로': 514, '시간도': 515, '이겨내지': 516, '못했던': 517, '고민만이': 518, '흘러': 519, '시작하고': 520, '싶은': 521, '벗어날': 522, '틀': 523, '8': 524, '쉬워야': 525, '설명해': 526, '알기': 527, '아는': 528, '알겠으니까': 529, '간단하게': 530, '표정도': 531, '살펴줘': 532, '어떤': 533, '맘인지': 534, '헷갈리게': 535, '말해': 536, '놓고': 537, '알아듣는': 538, '흘겨봐': 539, '한때는': 540, '이런': 541, '원망하고': 542, '움츠러들었지': 543, '알아듣고': 544, '있던': 545, '귀를': 546, '용서해': 547, '질문도': 548, '받아줘': 549, '궁금한지': 550, '넌': 551, '어디까지': 552, '말했는지': 553, '만': 554, '중요하지': 555, '주어를': 556, '빼먹지': 557, '하품을': 558, '설명이': 559, '길어질수록': 560, '너만': 561, '신나': 562, '번은': 563, '보던': 564, '표정이': 565, '기억나': 566, '서로': 567, '답답한': 568, '시간': 569, '보내야': 570, '하는지': 571, '알아서': 572, '알아들어야': 573, '한다고': 574, '생각하는': 575, '끊임없이': 576, '신호를': 577, '줘도': 578, '전혀': 579, '끝날': 580, '생각': 581, '움직이는': 582, '입술만': 583, '허공에': 584, '보여': 585, '갈': 586, '길을': 587, '잃고': 588, '헤매고': 589, '두': 590, '눈은': 591, '어디에': 592, '9': 593, '바른생활': 594, '사나이': 595, '몸': 596, '타': 597, '넘지': 598, '주머니에': 599, '손': 600, '넣지': 601, '함부로': 602, '다리': 603, '꼬지도': 604, '떨지도': 605, '껌': 606, '씹지': 607, '밥공기': 608, '들고': 609, '밤에': 610, '손톱': 611, '깎지도': 612, '휘파람': 613, '불지도': 614, '맵고': 615, '짜게': 616, '밥': 617, '먹고': 618, '눕지': 619, '빨갛게': 620, '이름': 621, '쓰지도': 622, '문지방': 623, '밟지도': 624, '왼손은': 625, '거들': 626, '지금이': 627}\n",
            "628\n"
          ]
        }
      ],
      "source": [
        "tokenizer = Tokenizer()\n",
        "\n",
        "tokenizer.fit_on_texts(corpus)\n",
        "total_words = len(tokenizer.word_index) + 1\n",
        "\n",
        "print(tokenizer.word_index)\n",
        "print(total_words)"
      ]
    },
    {
      "cell_type": "code",
      "execution_count": 8,
      "metadata": {
        "id": "vqlTdoTRRTvE"
      },
      "outputs": [],
      "source": [
        "input_sequences = []\n",
        "for line in corpus:\n",
        "    token_list = tokenizer.texts_to_sequences([line])[0]\n",
        "    for i in range(1, len(token_list)):\n",
        "        n_gram_sequence = token_list[:i+1]\n",
        "        input_sequences.append(n_gram_sequence)"
      ]
    },
    {
      "cell_type": "code",
      "execution_count": 9,
      "metadata": {
        "id": "giN0WGMtRTvE"
      },
      "outputs": [],
      "source": [
        "max_sequence_len = max([len(x) for x in input_sequences])\n",
        "input_sequences = np.array(pad_sequences(input_sequences,\n",
        "                           maxlen=max_sequence_len, padding='pre'))"
      ]
    },
    {
      "cell_type": "code",
      "execution_count": 10,
      "metadata": {
        "id": "K8NF0v4RRTvE"
      },
      "outputs": [],
      "source": [
        "xs, labels = input_sequences[:,:-1],input_sequences[:,-1]\n",
        "ys = tf.keras.utils.to_categorical(labels, num_classes=total_words)"
      ]
    },
    {
      "cell_type": "code",
      "execution_count": 11,
      "metadata": {
        "colab": {
          "base_uri": "https://localhost:8080/"
        },
        "id": "WSqBBMTZRTvE",
        "outputId": "65b1e881-ab7a-44ab-8001-56dba27e4eb1"
      },
      "outputs": [
        {
          "output_type": "stream",
          "name": "stdout",
          "text": [
            "Epoch 1/100\n",
            "24/24 [==============================] - 11s 92ms/step - loss: 6.4420 - accuracy: 0.0200\n",
            "Epoch 2/100\n",
            "24/24 [==============================] - 1s 56ms/step - loss: 6.4286 - accuracy: 0.0333\n",
            "Epoch 3/100\n",
            "24/24 [==============================] - 1s 45ms/step - loss: 6.4053 - accuracy: 0.0333\n",
            "Epoch 4/100\n",
            "24/24 [==============================] - 1s 26ms/step - loss: 6.3298 - accuracy: 0.0333\n",
            "Epoch 5/100\n",
            "24/24 [==============================] - 1s 44ms/step - loss: 6.1712 - accuracy: 0.0333\n",
            "Epoch 6/100\n",
            "24/24 [==============================] - 0s 13ms/step - loss: 6.0412 - accuracy: 0.0333\n",
            "Epoch 7/100\n",
            "24/24 [==============================] - 0s 14ms/step - loss: 5.9786 - accuracy: 0.0333\n",
            "Epoch 8/100\n",
            "24/24 [==============================] - 0s 7ms/step - loss: 5.9442 - accuracy: 0.0333\n",
            "Epoch 9/100\n",
            "24/24 [==============================] - 0s 13ms/step - loss: 5.9235 - accuracy: 0.0333\n",
            "Epoch 10/100\n",
            "24/24 [==============================] - 0s 14ms/step - loss: 5.9050 - accuracy: 0.0333\n",
            "Epoch 11/100\n",
            "24/24 [==============================] - 0s 13ms/step - loss: 5.8889 - accuracy: 0.0333\n",
            "Epoch 12/100\n",
            "24/24 [==============================] - 1s 25ms/step - loss: 5.8722 - accuracy: 0.0333\n",
            "Epoch 13/100\n",
            "24/24 [==============================] - 0s 7ms/step - loss: 5.8517 - accuracy: 0.0333\n",
            "Epoch 14/100\n",
            "24/24 [==============================] - 0s 7ms/step - loss: 5.8245 - accuracy: 0.0360\n",
            "Epoch 15/100\n",
            "24/24 [==============================] - 0s 7ms/step - loss: 5.7884 - accuracy: 0.0360\n",
            "Epoch 16/100\n",
            "24/24 [==============================] - 0s 13ms/step - loss: 5.7481 - accuracy: 0.0346\n",
            "Epoch 17/100\n",
            "24/24 [==============================] - 0s 14ms/step - loss: 5.7128 - accuracy: 0.0360\n",
            "Epoch 18/100\n",
            "24/24 [==============================] - 0s 7ms/step - loss: 5.6795 - accuracy: 0.0346\n",
            "Epoch 19/100\n",
            "24/24 [==============================] - 0s 13ms/step - loss: 5.6498 - accuracy: 0.0346\n",
            "Epoch 20/100\n",
            "24/24 [==============================] - 0s 14ms/step - loss: 5.6229 - accuracy: 0.0346\n",
            "Epoch 21/100\n",
            "24/24 [==============================] - 0s 7ms/step - loss: 5.5968 - accuracy: 0.0373\n",
            "Epoch 22/100\n",
            "24/24 [==============================] - 0s 19ms/step - loss: 5.5739 - accuracy: 0.0360\n",
            "Epoch 23/100\n",
            "24/24 [==============================] - 0s 7ms/step - loss: 5.5520 - accuracy: 0.0373\n",
            "Epoch 24/100\n",
            "24/24 [==============================] - 0s 7ms/step - loss: 5.5308 - accuracy: 0.0360\n",
            "Epoch 25/100\n",
            "24/24 [==============================] - 0s 7ms/step - loss: 5.5117 - accuracy: 0.0373\n",
            "Epoch 26/100\n",
            "24/24 [==============================] - 0s 7ms/step - loss: 5.4932 - accuracy: 0.0346\n",
            "Epoch 27/100\n",
            "24/24 [==============================] - 0s 13ms/step - loss: 5.4711 - accuracy: 0.0360\n",
            "Epoch 28/100\n",
            "24/24 [==============================] - 0s 13ms/step - loss: 5.4513 - accuracy: 0.0360\n",
            "Epoch 29/100\n",
            "24/24 [==============================] - 0s 8ms/step - loss: 5.4316 - accuracy: 0.0386\n",
            "Epoch 30/100\n",
            "24/24 [==============================] - 0s 7ms/step - loss: 5.4116 - accuracy: 0.0413\n",
            "Epoch 31/100\n",
            "24/24 [==============================] - 0s 13ms/step - loss: 5.3937 - accuracy: 0.0439\n",
            "Epoch 32/100\n",
            "24/24 [==============================] - 0s 7ms/step - loss: 5.3738 - accuracy: 0.0413\n",
            "Epoch 33/100\n",
            "24/24 [==============================] - 0s 7ms/step - loss: 5.3521 - accuracy: 0.0426\n",
            "Epoch 34/100\n",
            "24/24 [==============================] - 0s 13ms/step - loss: 5.3326 - accuracy: 0.0426\n",
            "Epoch 35/100\n",
            "24/24 [==============================] - 0s 7ms/step - loss: 5.3141 - accuracy: 0.0426\n",
            "Epoch 36/100\n",
            "24/24 [==============================] - 0s 7ms/step - loss: 5.2951 - accuracy: 0.0439\n",
            "Epoch 37/100\n",
            "24/24 [==============================] - 0s 7ms/step - loss: 5.2756 - accuracy: 0.0426\n",
            "Epoch 38/100\n",
            "24/24 [==============================] - 0s 7ms/step - loss: 5.2583 - accuracy: 0.0426\n",
            "Epoch 39/100\n",
            "24/24 [==============================] - 0s 7ms/step - loss: 5.2374 - accuracy: 0.0439\n",
            "Epoch 40/100\n",
            "24/24 [==============================] - 0s 7ms/step - loss: 5.2176 - accuracy: 0.0426\n",
            "Epoch 41/100\n",
            "24/24 [==============================] - 0s 7ms/step - loss: 5.1983 - accuracy: 0.0506\n",
            "Epoch 42/100\n",
            "24/24 [==============================] - 0s 13ms/step - loss: 5.1777 - accuracy: 0.0506\n",
            "Epoch 43/100\n",
            "24/24 [==============================] - 0s 13ms/step - loss: 5.1597 - accuracy: 0.0506\n",
            "Epoch 44/100\n",
            "24/24 [==============================] - 0s 7ms/step - loss: 5.1418 - accuracy: 0.0506\n",
            "Epoch 45/100\n",
            "24/24 [==============================] - 0s 8ms/step - loss: 5.1248 - accuracy: 0.0519\n",
            "Epoch 46/100\n",
            "24/24 [==============================] - 0s 10ms/step - loss: 5.1072 - accuracy: 0.0506\n",
            "Epoch 47/100\n",
            "24/24 [==============================] - 0s 10ms/step - loss: 5.0892 - accuracy: 0.0519\n",
            "Epoch 48/100\n",
            "24/24 [==============================] - 0s 10ms/step - loss: 5.0735 - accuracy: 0.0506\n",
            "Epoch 49/100\n",
            "24/24 [==============================] - 0s 9ms/step - loss: 5.0570 - accuracy: 0.0506\n",
            "Epoch 50/100\n",
            "24/24 [==============================] - 0s 9ms/step - loss: 5.0391 - accuracy: 0.0533\n",
            "Epoch 51/100\n",
            "24/24 [==============================] - 0s 9ms/step - loss: 5.0249 - accuracy: 0.0519\n",
            "Epoch 52/100\n",
            "24/24 [==============================] - 0s 9ms/step - loss: 5.0072 - accuracy: 0.0519\n",
            "Epoch 53/100\n",
            "24/24 [==============================] - 0s 9ms/step - loss: 4.9916 - accuracy: 0.0546\n",
            "Epoch 54/100\n",
            "24/24 [==============================] - 0s 10ms/step - loss: 4.9773 - accuracy: 0.0559\n",
            "Epoch 55/100\n",
            "24/24 [==============================] - 0s 8ms/step - loss: 4.9610 - accuracy: 0.0573\n",
            "Epoch 56/100\n",
            "24/24 [==============================] - 0s 7ms/step - loss: 4.9447 - accuracy: 0.0559\n",
            "Epoch 57/100\n",
            "24/24 [==============================] - 0s 7ms/step - loss: 4.9321 - accuracy: 0.0546\n",
            "Epoch 58/100\n",
            "24/24 [==============================] - 0s 13ms/step - loss: 4.9167 - accuracy: 0.0546\n",
            "Epoch 59/100\n",
            "24/24 [==============================] - 0s 13ms/step - loss: 4.9013 - accuracy: 0.0599\n",
            "Epoch 60/100\n",
            "24/24 [==============================] - 0s 7ms/step - loss: 4.8866 - accuracy: 0.0599\n",
            "Epoch 61/100\n",
            "24/24 [==============================] - 0s 7ms/step - loss: 4.8710 - accuracy: 0.0626\n",
            "Epoch 62/100\n",
            "24/24 [==============================] - 0s 7ms/step - loss: 4.8567 - accuracy: 0.0652\n",
            "Epoch 63/100\n",
            "24/24 [==============================] - 0s 7ms/step - loss: 4.8423 - accuracy: 0.0652\n",
            "Epoch 64/100\n",
            "24/24 [==============================] - 0s 7ms/step - loss: 4.8286 - accuracy: 0.0706\n",
            "Epoch 65/100\n",
            "24/24 [==============================] - 0s 7ms/step - loss: 4.8148 - accuracy: 0.0706\n",
            "Epoch 66/100\n",
            "24/24 [==============================] - 0s 7ms/step - loss: 4.8029 - accuracy: 0.0692\n",
            "Epoch 67/100\n",
            "24/24 [==============================] - 0s 19ms/step - loss: 4.7882 - accuracy: 0.0692\n",
            "Epoch 68/100\n",
            "24/24 [==============================] - 0s 7ms/step - loss: 4.7765 - accuracy: 0.0706\n",
            "Epoch 69/100\n",
            "24/24 [==============================] - 0s 13ms/step - loss: 4.7619 - accuracy: 0.0732\n",
            "Epoch 70/100\n",
            "24/24 [==============================] - 0s 7ms/step - loss: 4.7504 - accuracy: 0.0759\n",
            "Epoch 71/100\n",
            "24/24 [==============================] - 0s 7ms/step - loss: 4.7372 - accuracy: 0.0759\n",
            "Epoch 72/100\n",
            "24/24 [==============================] - 0s 7ms/step - loss: 4.7234 - accuracy: 0.0746\n",
            "Epoch 73/100\n",
            "24/24 [==============================] - 0s 7ms/step - loss: 4.7106 - accuracy: 0.0786\n",
            "Epoch 74/100\n",
            "24/24 [==============================] - 0s 7ms/step - loss: 4.6968 - accuracy: 0.0786\n",
            "Epoch 75/100\n",
            "24/24 [==============================] - 0s 6ms/step - loss: 4.6827 - accuracy: 0.0786\n",
            "Epoch 76/100\n",
            "24/24 [==============================] - 0s 7ms/step - loss: 4.6690 - accuracy: 0.0799\n",
            "Epoch 77/100\n",
            "24/24 [==============================] - 0s 7ms/step - loss: 4.6567 - accuracy: 0.0772\n",
            "Epoch 78/100\n",
            "24/24 [==============================] - 0s 7ms/step - loss: 4.6434 - accuracy: 0.0839\n",
            "Epoch 79/100\n",
            "24/24 [==============================] - 0s 7ms/step - loss: 4.6302 - accuracy: 0.0866\n",
            "Epoch 80/100\n",
            "24/24 [==============================] - 0s 7ms/step - loss: 4.6180 - accuracy: 0.0879\n",
            "Epoch 81/100\n",
            "24/24 [==============================] - 0s 7ms/step - loss: 4.6059 - accuracy: 0.0866\n",
            "Epoch 82/100\n",
            "24/24 [==============================] - 0s 7ms/step - loss: 4.5939 - accuracy: 0.0852\n",
            "Epoch 83/100\n",
            "24/24 [==============================] - 0s 7ms/step - loss: 4.5807 - accuracy: 0.0852\n",
            "Epoch 84/100\n",
            "24/24 [==============================] - 0s 7ms/step - loss: 4.5688 - accuracy: 0.0852\n",
            "Epoch 85/100\n",
            "24/24 [==============================] - 0s 7ms/step - loss: 4.5579 - accuracy: 0.0826\n",
            "Epoch 86/100\n",
            "24/24 [==============================] - 0s 7ms/step - loss: 4.5470 - accuracy: 0.0852\n",
            "Epoch 87/100\n",
            "24/24 [==============================] - 0s 7ms/step - loss: 4.5369 - accuracy: 0.0892\n",
            "Epoch 88/100\n",
            "24/24 [==============================] - 0s 7ms/step - loss: 4.5239 - accuracy: 0.0879\n",
            "Epoch 89/100\n",
            "24/24 [==============================] - 0s 7ms/step - loss: 4.5123 - accuracy: 0.0959\n",
            "Epoch 90/100\n",
            "24/24 [==============================] - 0s 7ms/step - loss: 4.5021 - accuracy: 0.0932\n",
            "Epoch 91/100\n",
            "24/24 [==============================] - 0s 7ms/step - loss: 4.4904 - accuracy: 0.0892\n",
            "Epoch 92/100\n",
            "24/24 [==============================] - 0s 7ms/step - loss: 4.4784 - accuracy: 0.0905\n",
            "Epoch 93/100\n",
            "24/24 [==============================] - 0s 7ms/step - loss: 4.4685 - accuracy: 0.0919\n",
            "Epoch 94/100\n",
            "24/24 [==============================] - 0s 7ms/step - loss: 4.4614 - accuracy: 0.0892\n",
            "Epoch 95/100\n",
            "24/24 [==============================] - 0s 7ms/step - loss: 4.4542 - accuracy: 0.0879\n",
            "Epoch 96/100\n",
            "24/24 [==============================] - 0s 7ms/step - loss: 4.4404 - accuracy: 0.0919\n",
            "Epoch 97/100\n",
            "24/24 [==============================] - 0s 7ms/step - loss: 4.4259 - accuracy: 0.0932\n",
            "Epoch 98/100\n",
            "24/24 [==============================] - 0s 8ms/step - loss: 4.4143 - accuracy: 0.0945\n",
            "Epoch 99/100\n",
            "24/24 [==============================] - 0s 7ms/step - loss: 4.4032 - accuracy: 0.0945\n",
            "Epoch 100/100\n",
            "24/24 [==============================] - 0s 7ms/step - loss: 4.3927 - accuracy: 0.1012\n"
          ]
        }
      ],
      "source": [
        "model = Sequential()\n",
        "model.add(Embedding(total_words, 8))\n",
        "model.add(Bidirectional(LSTM(max_sequence_len-1)))\n",
        "model.add(Dense(total_words, activation='softmax'))\n",
        "\n",
        "model.compile(loss='categorical_crossentropy', optimizer='adam', metrics=['accuracy'])\n",
        "history = model.fit(xs, ys, epochs=100, verbose=1)"
      ]
    },
    {
      "cell_type": "code",
      "execution_count": 13,
      "metadata": {
        "colab": {
          "base_uri": "https://localhost:8080/",
          "height": 449
        },
        "id": "9OZn-dm6RTvF",
        "outputId": "23205aba-dfe7-4af8-f831-47d70f4a9686",
        "scrolled": true
      },
      "outputs": [
        {
          "output_type": "display_data",
          "data": {
            "text/plain": [
              "<Figure size 640x480 with 1 Axes>"
            ],
            "image/png": "[encoded data removed]"
          },
          "metadata": {}
        }
      ],
      "source": [
        "import matplotlib.pyplot as plt\n",
        "\n",
        "plt.plot(history.history['accuracy'])\n",
        "plt.xlabel('epochs')\n",
        "plt.ylabel('accuracy')\n",
        "plt.show()"
      ]
    },
    {
      "cell_type": "code",
      "execution_count": 14,
      "metadata": {
        "colab": {
          "base_uri": "https://localhost:8080/",
          "height": 54
        },
        "id": "sMBsttSnRTvF",
        "outputId": "935a12f1-993b-4c21-8034-dc5c8b30a573"
      },
      "outputs": [
        {
          "output_type": "stream",
          "name": "stdout",
          "text": [
            "1/1 [==============================] - 1s 1s/step\n"
          ]
        },
        {
          "output_type": "execute_result",
          "data": {
            "text/plain": [
              "'막'"
            ],
            "application/vnd.google.colaboratory.intrinsic+json": {
              "type": "string"
            }
          },
          "metadata": {},
          "execution_count": 14
        }
      ],
      "source": [
        "#seed_text = \"in the town of athy\"\n",
        "seed_text = \"갈릴레오\"\n",
        "token_list = tokenizer.texts_to_sequences([seed_text])[0]\n",
        "token_list = pad_sequences([token_list],\n",
        "                           maxlen=max_sequence_len-1, padding='pre')\n",
        "predicted = np.argmax(model.predict(token_list), axis=-1)\n",
        "tokenizer.index_word[predicted[0]]"
      ]
    },
    {
      "cell_type": "code",
      "execution_count": 15,
      "metadata": {
        "colab": {
          "base_uri": "https://localhost:8080/"
        },
        "id": "jKQqJVdJRTvF",
        "outputId": "51efdfe8-78b1-4fa7-8e83-92eb5deabe40"
      },
      "outputs": [
        {
          "output_type": "stream",
          "name": "stdout",
          "text": [
            "1/1 [==============================] - 0s 44ms/step\n",
            "1/1 [==============================] - 0s 76ms/step\n",
            "1/1 [==============================] - 0s 65ms/step\n",
            "1/1 [==============================] - 0s 38ms/step\n",
            "1/1 [==============================] - 0s 19ms/step\n",
            "1/1 [==============================] - 0s 21ms/step\n",
            "1/1 [==============================] - 0s 17ms/step\n",
            "1/1 [==============================] - 0s 17ms/step\n",
            "1/1 [==============================] - 0s 17ms/step\n",
            "1/1 [==============================] - 0s 18ms/step\n",
            "생각난다 막 의사소통능력 의사소통능력 드는 수 맡겨 끝 끝 있다면 있다면\n"
          ]
        }
      ],
      "source": [
        "#seed_text = \"sweet jeremy saw dublin\"\n",
        "seed_text = \"생각난다\"\n",
        "next_words=10\n",
        "for _ in range(next_words):\n",
        "    token_list = tokenizer.texts_to_sequences([seed_text])[0]\n",
        "    token_list = pad_sequences([token_list],  maxlen=max_sequence_len-1, padding='pre')\n",
        "    predicted = np.argmax(model.predict(token_list), axis=-1)\n",
        "    output_word = \"\"\n",
        "\n",
        "    for word, index in tokenizer.word_index.items():\n",
        "        if index == predicted:\n",
        "            output_word = word\n",
        "            break\n",
        "    seed_text += \" \" + output_word\n",
        "\n",
        "print(seed_text)"
      ]
    },
    {
      "cell_type": "markdown",
      "metadata": {
        "id": "JnezZChkRTvF"
      },
      "source": [
        "## 모델 구조 바꾸기"
      ]
    },
    {
      "cell_type": "code",
      "execution_count": 16,
      "metadata": {
        "colab": {
          "base_uri": "https://localhost:8080/"
        },
        "id": "AqJje73gRTvF",
        "outputId": "b994c54a-5aab-401f-c830-432ce784a304"
      },
      "outputs": [
        {
          "output_type": "stream",
          "name": "stdout",
          "text": [
            "Epoch 1/100\n",
            "24/24 [==============================] - 8s 51ms/step - loss: 6.4422 - accuracy: 0.0186\n",
            "Epoch 2/100\n",
            "24/24 [==============================] - 1s 39ms/step - loss: 6.4293 - accuracy: 0.0333\n",
            "Epoch 3/100\n",
            "24/24 [==============================] - 1s 37ms/step - loss: 6.3981 - accuracy: 0.0333\n",
            "Epoch 4/100\n",
            "24/24 [==============================] - 1s 43ms/step - loss: 6.2689 - accuracy: 0.0333\n",
            "Epoch 5/100\n",
            "24/24 [==============================] - 0s 17ms/step - loss: 6.1014 - accuracy: 0.0333\n",
            "Epoch 6/100\n",
            "24/24 [==============================] - 0s 18ms/step - loss: 6.0099 - accuracy: 0.0333\n",
            "Epoch 7/100\n",
            "24/24 [==============================] - 0s 13ms/step - loss: 5.9683 - accuracy: 0.0333\n",
            "Epoch 8/100\n",
            "24/24 [==============================] - 0s 21ms/step - loss: 5.9453 - accuracy: 0.0333\n",
            "Epoch 9/100\n",
            "24/24 [==============================] - 0s 9ms/step - loss: 5.9333 - accuracy: 0.0333\n",
            "Epoch 10/100\n",
            "24/24 [==============================] - 0s 13ms/step - loss: 5.9256 - accuracy: 0.0333\n",
            "Epoch 11/100\n",
            "24/24 [==============================] - 0s 13ms/step - loss: 5.9188 - accuracy: 0.0333\n",
            "Epoch 12/100\n",
            "24/24 [==============================] - 0s 13ms/step - loss: 5.9136 - accuracy: 0.0333\n",
            "Epoch 13/100\n",
            "24/24 [==============================] - 0s 9ms/step - loss: 5.9080 - accuracy: 0.0333\n",
            "Epoch 14/100\n",
            "24/24 [==============================] - 0s 13ms/step - loss: 5.8982 - accuracy: 0.0333\n",
            "Epoch 15/100\n",
            "24/24 [==============================] - 0s 10ms/step - loss: 5.8758 - accuracy: 0.0333\n",
            "Epoch 16/100\n",
            "24/24 [==============================] - 0s 16ms/step - loss: 5.8335 - accuracy: 0.0346\n",
            "Epoch 17/100\n",
            "24/24 [==============================] - 0s 14ms/step - loss: 5.7908 - accuracy: 0.0333\n",
            "Epoch 18/100\n",
            "24/24 [==============================] - 0s 17ms/step - loss: 5.7579 - accuracy: 0.0333\n",
            "Epoch 19/100\n",
            "24/24 [==============================] - 0s 10ms/step - loss: 5.7303 - accuracy: 0.0333\n",
            "Epoch 20/100\n",
            "24/24 [==============================] - 0s 17ms/step - loss: 5.7047 - accuracy: 0.0333\n",
            "Epoch 21/100\n",
            "24/24 [==============================] - 0s 9ms/step - loss: 5.6780 - accuracy: 0.0333\n",
            "Epoch 22/100\n",
            "24/24 [==============================] - 0s 10ms/step - loss: 5.6539 - accuracy: 0.0333\n",
            "Epoch 23/100\n",
            "24/24 [==============================] - 0s 9ms/step - loss: 5.6277 - accuracy: 0.0333\n",
            "Epoch 24/100\n",
            "24/24 [==============================] - 0s 10ms/step - loss: 5.6016 - accuracy: 0.0333\n",
            "Epoch 25/100\n",
            "24/24 [==============================] - 0s 18ms/step - loss: 5.5756 - accuracy: 0.0333\n",
            "Epoch 26/100\n",
            "24/24 [==============================] - 0s 9ms/step - loss: 5.5476 - accuracy: 0.0333\n",
            "Epoch 27/100\n",
            "24/24 [==============================] - 0s 9ms/step - loss: 5.5197 - accuracy: 0.0333\n",
            "Epoch 28/100\n",
            "24/24 [==============================] - 0s 9ms/step - loss: 5.4922 - accuracy: 0.0333\n",
            "Epoch 29/100\n",
            "24/24 [==============================] - 0s 10ms/step - loss: 5.4633 - accuracy: 0.0333\n",
            "Epoch 30/100\n",
            "24/24 [==============================] - 0s 14ms/step - loss: 5.4359 - accuracy: 0.0333\n",
            "Epoch 31/100\n",
            "24/24 [==============================] - 0s 10ms/step - loss: 5.4048 - accuracy: 0.0346\n",
            "Epoch 32/100\n",
            "24/24 [==============================] - 0s 10ms/step - loss: 5.3761 - accuracy: 0.0346\n",
            "Epoch 33/100\n",
            "24/24 [==============================] - 0s 10ms/step - loss: 5.3458 - accuracy: 0.0373\n",
            "Epoch 34/100\n",
            "24/24 [==============================] - 0s 9ms/step - loss: 5.3176 - accuracy: 0.0373\n",
            "Epoch 35/100\n",
            "24/24 [==============================] - 0s 9ms/step - loss: 5.2896 - accuracy: 0.0373\n",
            "Epoch 36/100\n",
            "24/24 [==============================] - 0s 9ms/step - loss: 5.2650 - accuracy: 0.0386\n",
            "Epoch 37/100\n",
            "24/24 [==============================] - 0s 10ms/step - loss: 5.2388 - accuracy: 0.0399\n",
            "Epoch 38/100\n",
            "24/24 [==============================] - 0s 10ms/step - loss: 5.2153 - accuracy: 0.0413\n",
            "Epoch 39/100\n",
            "24/24 [==============================] - 0s 14ms/step - loss: 5.1903 - accuracy: 0.0453\n",
            "Epoch 40/100\n",
            "24/24 [==============================] - 0s 14ms/step - loss: 5.1630 - accuracy: 0.0439\n",
            "Epoch 41/100\n",
            "24/24 [==============================] - 0s 20ms/step - loss: 5.1398 - accuracy: 0.0453\n",
            "Epoch 42/100\n",
            "24/24 [==============================] - 0s 14ms/step - loss: 5.1167 - accuracy: 0.0439\n",
            "Epoch 43/100\n",
            "24/24 [==============================] - 0s 15ms/step - loss: 5.0957 - accuracy: 0.0493\n",
            "Epoch 44/100\n",
            "24/24 [==============================] - 0s 13ms/step - loss: 5.0737 - accuracy: 0.0493\n",
            "Epoch 45/100\n",
            "24/24 [==============================] - 0s 10ms/step - loss: 5.0551 - accuracy: 0.0533\n",
            "Epoch 46/100\n",
            "24/24 [==============================] - 0s 9ms/step - loss: 5.0383 - accuracy: 0.0546\n",
            "Epoch 47/100\n",
            "24/24 [==============================] - 0s 10ms/step - loss: 5.0246 - accuracy: 0.0533\n",
            "Epoch 48/100\n",
            "24/24 [==============================] - 0s 9ms/step - loss: 5.0039 - accuracy: 0.0533\n",
            "Epoch 49/100\n",
            "24/24 [==============================] - 0s 9ms/step - loss: 4.9771 - accuracy: 0.0559\n",
            "Epoch 50/100\n",
            "24/24 [==============================] - 0s 9ms/step - loss: 4.9530 - accuracy: 0.0546\n",
            "Epoch 51/100\n",
            "24/24 [==============================] - 0s 10ms/step - loss: 4.9280 - accuracy: 0.0573\n",
            "Epoch 52/100\n",
            "24/24 [==============================] - 0s 15ms/step - loss: 4.9050 - accuracy: 0.0546\n",
            "Epoch 53/100\n",
            "24/24 [==============================] - 0s 10ms/step - loss: 4.8860 - accuracy: 0.0546\n",
            "Epoch 54/100\n",
            "24/24 [==============================] - 0s 9ms/step - loss: 4.8664 - accuracy: 0.0559\n",
            "Epoch 55/100\n",
            "24/24 [==============================] - 0s 10ms/step - loss: 4.8467 - accuracy: 0.0559\n",
            "Epoch 56/100\n",
            "24/24 [==============================] - 0s 9ms/step - loss: 4.8272 - accuracy: 0.0573\n",
            "Epoch 57/100\n",
            "24/24 [==============================] - 0s 10ms/step - loss: 4.8114 - accuracy: 0.0573\n",
            "Epoch 58/100\n",
            "24/24 [==============================] - 0s 14ms/step - loss: 4.7963 - accuracy: 0.0573\n",
            "Epoch 59/100\n",
            "24/24 [==============================] - 0s 10ms/step - loss: 4.7790 - accuracy: 0.0586\n",
            "Epoch 60/100\n",
            "24/24 [==============================] - 0s 15ms/step - loss: 4.7607 - accuracy: 0.0586\n",
            "Epoch 61/100\n",
            "24/24 [==============================] - 0s 9ms/step - loss: 4.7449 - accuracy: 0.0599\n",
            "Epoch 62/100\n",
            "24/24 [==============================] - 0s 10ms/step - loss: 4.7328 - accuracy: 0.0586\n",
            "Epoch 63/100\n",
            "24/24 [==============================] - 0s 10ms/step - loss: 4.7158 - accuracy: 0.0652\n",
            "Epoch 64/100\n",
            "24/24 [==============================] - 0s 9ms/step - loss: 4.6994 - accuracy: 0.0666\n",
            "Epoch 65/100\n",
            "24/24 [==============================] - 0s 9ms/step - loss: 4.6836 - accuracy: 0.0626\n",
            "Epoch 66/100\n",
            "24/24 [==============================] - 0s 16ms/step - loss: 4.6827 - accuracy: 0.0639\n",
            "Epoch 67/100\n",
            "24/24 [==============================] - 0s 10ms/step - loss: 4.6697 - accuracy: 0.0613\n",
            "Epoch 68/100\n",
            "24/24 [==============================] - 0s 10ms/step - loss: 4.6457 - accuracy: 0.0666\n",
            "Epoch 69/100\n",
            "24/24 [==============================] - 0s 10ms/step - loss: 4.6314 - accuracy: 0.0679\n",
            "Epoch 70/100\n",
            "24/24 [==============================] - 0s 10ms/step - loss: 4.6182 - accuracy: 0.0692\n",
            "Epoch 71/100\n",
            "24/24 [==============================] - 0s 10ms/step - loss: 4.5981 - accuracy: 0.0719\n",
            "Epoch 72/100\n",
            "24/24 [==============================] - 0s 9ms/step - loss: 4.5804 - accuracy: 0.0706\n",
            "Epoch 73/100\n",
            "24/24 [==============================] - 0s 10ms/step - loss: 4.5663 - accuracy: 0.0706\n",
            "Epoch 74/100\n",
            "24/24 [==============================] - 0s 11ms/step - loss: 4.5505 - accuracy: 0.0692\n",
            "Epoch 75/100\n",
            "24/24 [==============================] - 0s 13ms/step - loss: 4.5392 - accuracy: 0.0719\n",
            "Epoch 76/100\n",
            "24/24 [==============================] - 0s 10ms/step - loss: 4.5233 - accuracy: 0.0732\n",
            "Epoch 77/100\n",
            "24/24 [==============================] - 0s 10ms/step - loss: 4.5109 - accuracy: 0.0759\n",
            "Epoch 78/100\n",
            "24/24 [==============================] - 0s 9ms/step - loss: 4.4980 - accuracy: 0.0746\n",
            "Epoch 79/100\n",
            "24/24 [==============================] - 0s 10ms/step - loss: 4.4876 - accuracy: 0.0746\n",
            "Epoch 80/100\n",
            "24/24 [==============================] - 0s 10ms/step - loss: 4.4769 - accuracy: 0.0746\n",
            "Epoch 81/100\n",
            "24/24 [==============================] - 0s 9ms/step - loss: 4.4660 - accuracy: 0.0746\n",
            "Epoch 82/100\n",
            "24/24 [==============================] - 0s 10ms/step - loss: 4.4541 - accuracy: 0.0759\n",
            "Epoch 83/100\n",
            "24/24 [==============================] - 0s 13ms/step - loss: 4.4413 - accuracy: 0.0826\n",
            "Epoch 84/100\n",
            "24/24 [==============================] - 0s 13ms/step - loss: 4.4305 - accuracy: 0.0812\n",
            "Epoch 85/100\n",
            "24/24 [==============================] - 0s 14ms/step - loss: 4.4181 - accuracy: 0.0812\n",
            "Epoch 86/100\n",
            "24/24 [==============================] - 0s 13ms/step - loss: 4.4057 - accuracy: 0.0839\n",
            "Epoch 87/100\n",
            "24/24 [==============================] - 0s 14ms/step - loss: 4.3936 - accuracy: 0.0866\n",
            "Epoch 88/100\n",
            "24/24 [==============================] - 0s 14ms/step - loss: 4.3889 - accuracy: 0.0892\n",
            "Epoch 89/100\n",
            "24/24 [==============================] - 0s 14ms/step - loss: 4.4032 - accuracy: 0.0852\n",
            "Epoch 90/100\n",
            "24/24 [==============================] - 0s 14ms/step - loss: 4.3918 - accuracy: 0.0866\n",
            "Epoch 91/100\n",
            "24/24 [==============================] - 0s 9ms/step - loss: 4.3868 - accuracy: 0.0892\n",
            "Epoch 92/100\n",
            "24/24 [==============================] - 0s 9ms/step - loss: 4.3914 - accuracy: 0.0919\n",
            "Epoch 93/100\n",
            "24/24 [==============================] - 0s 10ms/step - loss: 4.3621 - accuracy: 0.0905\n",
            "Epoch 94/100\n",
            "24/24 [==============================] - 0s 9ms/step - loss: 4.3416 - accuracy: 0.0905\n",
            "Epoch 95/100\n",
            "24/24 [==============================] - 0s 10ms/step - loss: 4.3288 - accuracy: 0.0932\n",
            "Epoch 96/100\n",
            "24/24 [==============================] - 0s 10ms/step - loss: 4.3175 - accuracy: 0.0972\n",
            "Epoch 97/100\n",
            "24/24 [==============================] - 0s 9ms/step - loss: 4.3088 - accuracy: 0.0972\n",
            "Epoch 98/100\n",
            "24/24 [==============================] - 0s 10ms/step - loss: 4.3022 - accuracy: 0.0945\n",
            "Epoch 99/100\n",
            "24/24 [==============================] - 0s 10ms/step - loss: 4.2946 - accuracy: 0.0959\n",
            "Epoch 100/100\n",
            "24/24 [==============================] - 0s 10ms/step - loss: 4.2754 - accuracy: 0.0972\n"
          ]
        }
      ],
      "source": [
        "model = Sequential()\n",
        "model.add(Embedding(total_words, 8))\n",
        "model.add(Bidirectional(LSTM(max_sequence_len-1, return_sequences='True')))\n",
        "model.add(Bidirectional(LSTM(max_sequence_len-1)))\n",
        "model.add(Dense(total_words, activation='softmax'))\n",
        "model.compile(loss='categorical_crossentropy', optimizer='adam',\n",
        "              metrics=['accuracy'])\n",
        "history = model.fit(xs, ys, epochs=100, verbose=1)"
      ]
    },
    {
      "cell_type": "code",
      "execution_count": 18,
      "metadata": {
        "colab": {
          "base_uri": "https://localhost:8080/",
          "height": 450
        },
        "id": "NSI0wuPwRTvF",
        "outputId": "7f15e8d3-e0f9-49d8-afc5-2979aeeb1f8b",
        "scrolled": true
      },
      "outputs": [
        {
          "output_type": "display_data",
          "data": {
            "text/plain": [
              "<Figure size 640x480 with 1 Axes>"
            ],
            "image/png": "[encoded data removed]"
          },
          "metadata": {}
        }
      ],
      "source": [
        "plt.plot(history.history['accuracy'])\n",
        "plt.xlabel('epochs')\n",
        "plt.ylabel('accuracy')\n",
        "plt.show()"
      ]
    },
    {
      "cell_type": "code",
      "execution_count": 20,
      "metadata": {
        "colab": {
          "base_uri": "https://localhost:8080/",
          "height": 54
        },
        "id": "3sKmeVCvRTvG",
        "outputId": "1c2da315-8fc6-4ba8-dacf-a2df0e78ee06"
      },
      "outputs": [
        {
          "output_type": "stream",
          "name": "stdout",
          "text": [
            "1/1 [==============================] - 0s 21ms/step\n"
          ]
        },
        {
          "output_type": "execute_result",
          "data": {
            "text/plain": [
              "'말이'"
            ],
            "application/vnd.google.colaboratory.intrinsic+json": {
              "type": "string"
            }
          },
          "metadata": {},
          "execution_count": 20
        }
      ],
      "source": [
        "#seed_text = \"in the town of athy\"\n",
        "seed_text = \"갈릴레오\"\n",
        "token_list = tokenizer.texts_to_sequences([seed_text])[0]\n",
        "token_list = pad_sequences([token_list],\n",
        "                           maxlen=max_sequence_len-1, padding='pre')\n",
        "predicted = np.argmax(model.predict(token_list), axis=-1)\n",
        "tokenizer.index_word[predicted[0]]"
      ]
    },
    {
      "cell_type": "code",
      "execution_count": 21,
      "metadata": {
        "colab": {
          "base_uri": "https://localhost:8080/"
        },
        "id": "ZsIFkF9fRTvG",
        "outputId": "55a955b1-2829-42b7-e76a-55c08f3e606a"
      },
      "outputs": [
        {
          "output_type": "stream",
          "name": "stdout",
          "text": [
            "1/1 [==============================] - 0s 21ms/step\n",
            "1/1 [==============================] - 0s 20ms/step\n",
            "1/1 [==============================] - 0s 19ms/step\n",
            "1/1 [==============================] - 0s 20ms/step\n",
            "1/1 [==============================] - 0s 19ms/step\n",
            "1/1 [==============================] - 0s 18ms/step\n",
            "1/1 [==============================] - 0s 19ms/step\n",
            "1/1 [==============================] - 0s 20ms/step\n",
            "1/1 [==============================] - 0s 18ms/step\n",
            "1/1 [==============================] - 0s 20ms/step\n",
            "갈릴레오 말이 것 것 것 것 것 것 것 것 것\n"
          ]
        }
      ],
      "source": [
        "#seed_text = \"sweet jeremy saw dublin\"\n",
        "seed_text=\"갈릴레오\"\n",
        "next_words=10\n",
        "for _ in range(next_words):\n",
        "    token_list = tokenizer.texts_to_sequences([seed_text])[0]\n",
        "    token_list = pad_sequences([token_list],  maxlen=max_sequence_len-1, padding='pre')\n",
        "    predicted = np.argmax(model.predict(token_list), axis=-1)\n",
        "    output_word = \"\"\n",
        "\n",
        "    for word, index in tokenizer.word_index.items():\n",
        "        if index == predicted:\n",
        "            output_word = word\n",
        "            break\n",
        "    seed_text += \" \" + output_word\n",
        "\n",
        "print(seed_text)"
      ]
    },
    {
      "cell_type": "markdown",
      "metadata": {
        "id": "iVyta1ZbRTvG"
      },
      "source": [
        "## 데이터 개선하기"
      ]
    },
    {
      "cell_type": "code",
      "execution_count": 22,
      "metadata": {
        "id": "_TCL5b6sRTvG"
      },
      "outputs": [],
      "source": [
        "window_size = 10\n",
        "sentences = []\n",
        "alltext = []\n",
        "#data = open('irish-lyrics-eof.txt').read()\n",
        "data = open('NLP.txt').read()\n",
        "corpus = data.lower()\n",
        "words = corpus.split(\" \")\n",
        "range_size = len(words)-window_size\n",
        "for i in range(0, range_size):\n",
        "    thissentence=\"\"\n",
        "    for word in range(0, window_size-1):\n",
        "        word = words[i+word]\n",
        "        thissentence = thissentence + word\n",
        "        thissentence = thissentence + \" \"\n",
        "    sentences.append(thissentence)"
      ]
    },
    {
      "cell_type": "code",
      "execution_count": 24,
      "metadata": {
        "colab": {
          "base_uri": "https://localhost:8080/"
        },
        "id": "f7LI-O0CRTvG",
        "outputId": "3ca147bc-9b12-4c7d-cfec-e7b015e35725"
      },
      "outputs": [
        {
          "output_type": "stream",
          "name": "stdout",
          "text": [
            "Epoch 1/100\n",
            "24/24 [==============================] - 8s 60ms/step - loss: 6.4418 - accuracy: 0.0213\n",
            "Epoch 2/100\n",
            "24/24 [==============================] - 1s 35ms/step - loss: 6.4257 - accuracy: 0.0333\n",
            "Epoch 3/100\n",
            "24/24 [==============================] - 1s 31ms/step - loss: 6.3678 - accuracy: 0.0333\n",
            "Epoch 4/100\n",
            "24/24 [==============================] - 0s 17ms/step - loss: 6.1838 - accuracy: 0.0333\n",
            "Epoch 5/100\n",
            "24/24 [==============================] - 0s 10ms/step - loss: 6.0345 - accuracy: 0.0333\n",
            "Epoch 6/100\n",
            "24/24 [==============================] - 0s 20ms/step - loss: 5.9681 - accuracy: 0.0333\n",
            "Epoch 7/100\n",
            "24/24 [==============================] - 0s 14ms/step - loss: 5.9429 - accuracy: 0.0333\n",
            "Epoch 8/100\n",
            "24/24 [==============================] - 1s 21ms/step - loss: 5.9274 - accuracy: 0.0333\n",
            "Epoch 9/100\n",
            "24/24 [==============================] - 1s 27ms/step - loss: 5.9178 - accuracy: 0.0333\n",
            "Epoch 10/100\n",
            "24/24 [==============================] - 0s 14ms/step - loss: 5.9057 - accuracy: 0.0333\n",
            "Epoch 11/100\n",
            "24/24 [==============================] - 0s 20ms/step - loss: 5.8806 - accuracy: 0.0346\n",
            "Epoch 12/100\n",
            "24/24 [==============================] - 0s 20ms/step - loss: 5.8335 - accuracy: 0.0346\n",
            "Epoch 13/100\n",
            "24/24 [==============================] - 0s 11ms/step - loss: 5.7857 - accuracy: 0.0346\n",
            "Epoch 14/100\n",
            "24/24 [==============================] - 0s 17ms/step - loss: 5.7469 - accuracy: 0.0346\n",
            "Epoch 15/100\n",
            "24/24 [==============================] - 0s 13ms/step - loss: 5.7147 - accuracy: 0.0333\n",
            "Epoch 16/100\n",
            "24/24 [==============================] - 1s 22ms/step - loss: 5.6843 - accuracy: 0.0346\n",
            "Epoch 17/100\n",
            "24/24 [==============================] - 0s 10ms/step - loss: 5.6564 - accuracy: 0.0333\n",
            "Epoch 18/100\n",
            "24/24 [==============================] - 0s 13ms/step - loss: 5.6238 - accuracy: 0.0346\n",
            "Epoch 19/100\n",
            "24/24 [==============================] - 0s 10ms/step - loss: 5.5884 - accuracy: 0.0346\n",
            "Epoch 20/100\n",
            "24/24 [==============================] - 0s 10ms/step - loss: 5.5565 - accuracy: 0.0360\n",
            "Epoch 21/100\n",
            "24/24 [==============================] - 0s 9ms/step - loss: 5.5258 - accuracy: 0.0373\n",
            "Epoch 22/100\n",
            "24/24 [==============================] - 0s 10ms/step - loss: 5.4896 - accuracy: 0.0346\n",
            "Epoch 23/100\n",
            "24/24 [==============================] - 0s 10ms/step - loss: 5.4567 - accuracy: 0.0360\n",
            "Epoch 24/100\n",
            "24/24 [==============================] - 0s 13ms/step - loss: 5.4270 - accuracy: 0.0386\n",
            "Epoch 25/100\n",
            "24/24 [==============================] - 0s 10ms/step - loss: 5.3982 - accuracy: 0.0360\n",
            "Epoch 26/100\n",
            "24/24 [==============================] - 0s 10ms/step - loss: 5.3674 - accuracy: 0.0399\n",
            "Epoch 27/100\n",
            "24/24 [==============================] - 0s 14ms/step - loss: 5.3391 - accuracy: 0.0399\n",
            "Epoch 28/100\n",
            "24/24 [==============================] - 0s 10ms/step - loss: 5.3125 - accuracy: 0.0399\n",
            "Epoch 29/100\n",
            "24/24 [==============================] - 0s 10ms/step - loss: 5.2842 - accuracy: 0.0413\n",
            "Epoch 30/100\n",
            "24/24 [==============================] - 0s 10ms/step - loss: 5.2542 - accuracy: 0.0399\n",
            "Epoch 31/100\n",
            "24/24 [==============================] - 0s 10ms/step - loss: 5.2242 - accuracy: 0.0386\n",
            "Epoch 32/100\n",
            "24/24 [==============================] - 0s 9ms/step - loss: 5.1985 - accuracy: 0.0426\n",
            "Epoch 33/100\n",
            "24/24 [==============================] - 0s 10ms/step - loss: 5.1723 - accuracy: 0.0373\n",
            "Epoch 34/100\n",
            "24/24 [==============================] - 0s 13ms/step - loss: 5.1486 - accuracy: 0.0373\n",
            "Epoch 35/100\n",
            "24/24 [==============================] - 0s 10ms/step - loss: 5.1227 - accuracy: 0.0373\n",
            "Epoch 36/100\n",
            "24/24 [==============================] - 0s 9ms/step - loss: 5.1036 - accuracy: 0.0413\n",
            "Epoch 37/100\n",
            "24/24 [==============================] - 0s 10ms/step - loss: 5.0799 - accuracy: 0.0413\n",
            "Epoch 38/100\n",
            "24/24 [==============================] - 0s 14ms/step - loss: 5.0542 - accuracy: 0.0413\n",
            "Epoch 39/100\n",
            "24/24 [==============================] - 0s 10ms/step - loss: 5.0321 - accuracy: 0.0413\n",
            "Epoch 40/100\n",
            "24/24 [==============================] - 0s 10ms/step - loss: 5.0080 - accuracy: 0.0453\n",
            "Epoch 41/100\n",
            "24/24 [==============================] - 0s 10ms/step - loss: 4.9903 - accuracy: 0.0453\n",
            "Epoch 42/100\n",
            "24/24 [==============================] - 0s 10ms/step - loss: 4.9697 - accuracy: 0.0426\n",
            "Epoch 43/100\n",
            "24/24 [==============================] - 0s 10ms/step - loss: 4.9434 - accuracy: 0.0479\n",
            "Epoch 44/100\n",
            "24/24 [==============================] - 0s 9ms/step - loss: 4.9179 - accuracy: 0.0506\n",
            "Epoch 45/100\n",
            "24/24 [==============================] - 0s 9ms/step - loss: 4.8978 - accuracy: 0.0506\n",
            "Epoch 46/100\n",
            "24/24 [==============================] - 0s 10ms/step - loss: 4.8782 - accuracy: 0.0493\n",
            "Epoch 47/100\n",
            "24/24 [==============================] - 0s 10ms/step - loss: 4.8584 - accuracy: 0.0519\n",
            "Epoch 48/100\n",
            "24/24 [==============================] - 0s 9ms/step - loss: 4.8409 - accuracy: 0.0519\n",
            "Epoch 49/100\n",
            "24/24 [==============================] - 0s 13ms/step - loss: 4.8246 - accuracy: 0.0546\n",
            "Epoch 50/100\n",
            "24/24 [==============================] - 0s 20ms/step - loss: 4.8033 - accuracy: 0.0519\n",
            "Epoch 51/100\n",
            "24/24 [==============================] - 0s 15ms/step - loss: 4.7877 - accuracy: 0.0493\n",
            "Epoch 52/100\n",
            "24/24 [==============================] - 0s 14ms/step - loss: 4.7810 - accuracy: 0.0466\n",
            "Epoch 53/100\n",
            "24/24 [==============================] - 0s 15ms/step - loss: 4.7649 - accuracy: 0.0519\n",
            "Epoch 54/100\n",
            "24/24 [==============================] - 0s 14ms/step - loss: 4.7446 - accuracy: 0.0559\n",
            "Epoch 55/100\n",
            "24/24 [==============================] - 0s 19ms/step - loss: 4.7302 - accuracy: 0.0519\n",
            "Epoch 56/100\n",
            "24/24 [==============================] - 0s 9ms/step - loss: 4.7149 - accuracy: 0.0559\n",
            "Epoch 57/100\n",
            "24/24 [==============================] - 0s 10ms/step - loss: 4.7019 - accuracy: 0.0479\n",
            "Epoch 58/100\n",
            "24/24 [==============================] - 0s 11ms/step - loss: 4.6886 - accuracy: 0.0506\n",
            "Epoch 59/100\n",
            "24/24 [==============================] - 0s 10ms/step - loss: 4.6840 - accuracy: 0.0546\n",
            "Epoch 60/100\n",
            "24/24 [==============================] - 0s 10ms/step - loss: 4.6685 - accuracy: 0.0586\n",
            "Epoch 61/100\n",
            "24/24 [==============================] - 0s 9ms/step - loss: 4.6646 - accuracy: 0.0546\n",
            "Epoch 62/100\n",
            "24/24 [==============================] - 0s 10ms/step - loss: 4.6393 - accuracy: 0.0586\n",
            "Epoch 63/100\n",
            "24/24 [==============================] - 0s 10ms/step - loss: 4.6215 - accuracy: 0.0586\n",
            "Epoch 64/100\n",
            "24/24 [==============================] - 0s 15ms/step - loss: 4.6122 - accuracy: 0.0613\n",
            "Epoch 65/100\n",
            "24/24 [==============================] - 0s 10ms/step - loss: 4.6022 - accuracy: 0.0586\n",
            "Epoch 66/100\n",
            "24/24 [==============================] - 0s 10ms/step - loss: 4.5891 - accuracy: 0.0586\n",
            "Epoch 67/100\n",
            "24/24 [==============================] - 0s 10ms/step - loss: 4.5784 - accuracy: 0.0546\n",
            "Epoch 68/100\n",
            "24/24 [==============================] - 0s 10ms/step - loss: 4.5749 - accuracy: 0.0599\n",
            "Epoch 69/100\n",
            "24/24 [==============================] - 0s 10ms/step - loss: 4.5638 - accuracy: 0.0599\n",
            "Epoch 70/100\n",
            "24/24 [==============================] - 0s 10ms/step - loss: 4.5618 - accuracy: 0.0546\n",
            "Epoch 71/100\n",
            "24/24 [==============================] - 0s 10ms/step - loss: 4.5669 - accuracy: 0.0559\n",
            "Epoch 72/100\n",
            "24/24 [==============================] - 0s 10ms/step - loss: 4.5632 - accuracy: 0.0613\n",
            "Epoch 73/100\n",
            "24/24 [==============================] - 0s 10ms/step - loss: 4.5462 - accuracy: 0.0586\n",
            "Epoch 74/100\n",
            "24/24 [==============================] - 0s 10ms/step - loss: 4.5304 - accuracy: 0.0599\n",
            "Epoch 75/100\n",
            "24/24 [==============================] - 0s 10ms/step - loss: 4.5090 - accuracy: 0.0573\n",
            "Epoch 76/100\n",
            "24/24 [==============================] - 0s 9ms/step - loss: 4.4902 - accuracy: 0.0573\n",
            "Epoch 77/100\n",
            "24/24 [==============================] - 0s 9ms/step - loss: 4.4837 - accuracy: 0.0613\n",
            "Epoch 78/100\n",
            "24/24 [==============================] - 0s 10ms/step - loss: 4.4718 - accuracy: 0.0599\n",
            "Epoch 79/100\n",
            "24/24 [==============================] - 0s 10ms/step - loss: 4.4629 - accuracy: 0.0573\n",
            "Epoch 80/100\n",
            "24/24 [==============================] - 0s 9ms/step - loss: 4.4503 - accuracy: 0.0599\n",
            "Epoch 81/100\n",
            "24/24 [==============================] - 0s 9ms/step - loss: 4.4416 - accuracy: 0.0666\n",
            "Epoch 82/100\n",
            "24/24 [==============================] - 0s 10ms/step - loss: 4.4300 - accuracy: 0.0586\n",
            "Epoch 83/100\n",
            "24/24 [==============================] - 0s 10ms/step - loss: 4.4245 - accuracy: 0.0613\n",
            "Epoch 84/100\n",
            "24/24 [==============================] - 0s 10ms/step - loss: 4.4236 - accuracy: 0.0679\n",
            "Epoch 85/100\n",
            "24/24 [==============================] - 0s 10ms/step - loss: 4.4297 - accuracy: 0.0652\n",
            "Epoch 86/100\n",
            "24/24 [==============================] - 0s 10ms/step - loss: 4.4227 - accuracy: 0.0573\n",
            "Epoch 87/100\n",
            "24/24 [==============================] - 0s 10ms/step - loss: 4.4071 - accuracy: 0.0639\n",
            "Epoch 88/100\n",
            "24/24 [==============================] - 0s 10ms/step - loss: 4.3966 - accuracy: 0.0626\n",
            "Epoch 89/100\n",
            "24/24 [==============================] - 0s 10ms/step - loss: 4.3804 - accuracy: 0.0639\n",
            "Epoch 90/100\n",
            "24/24 [==============================] - 0s 10ms/step - loss: 4.3662 - accuracy: 0.0626\n",
            "Epoch 91/100\n",
            "24/24 [==============================] - 0s 10ms/step - loss: 4.3549 - accuracy: 0.0652\n",
            "Epoch 92/100\n",
            "24/24 [==============================] - 0s 10ms/step - loss: 4.3434 - accuracy: 0.0573\n",
            "Epoch 93/100\n",
            "24/24 [==============================] - 0s 10ms/step - loss: 4.3333 - accuracy: 0.0666\n",
            "Epoch 94/100\n",
            "24/24 [==============================] - 0s 14ms/step - loss: 4.3265 - accuracy: 0.0613\n",
            "Epoch 95/100\n",
            "24/24 [==============================] - 0s 11ms/step - loss: 4.3167 - accuracy: 0.0746\n",
            "Epoch 96/100\n",
            "24/24 [==============================] - 0s 18ms/step - loss: 4.3101 - accuracy: 0.0719\n",
            "Epoch 97/100\n",
            "24/24 [==============================] - 1s 29ms/step - loss: 4.3027 - accuracy: 0.0786\n",
            "Epoch 98/100\n",
            "24/24 [==============================] - 0s 14ms/step - loss: 4.2952 - accuracy: 0.0732\n",
            "Epoch 99/100\n",
            "24/24 [==============================] - 1s 34ms/step - loss: 4.2922 - accuracy: 0.0746\n",
            "Epoch 100/100\n",
            "24/24 [==============================] - 0s 13ms/step - loss: 4.2871 - accuracy: 0.0679\n"
          ]
        }
      ],
      "source": [
        "model = Sequential()\n",
        "model.add(Embedding(total_words, 8))\n",
        "model.add(Bidirectional(LSTM(window_size-1, return_sequences='True')))\n",
        "model.add(Bidirectional(LSTM(window_size-1)))\n",
        "model.add(Dense(total_words, activation='softmax'))\n",
        "model.compile(loss='categorical_crossentropy', optimizer='adam',\n",
        "              metrics=['accuracy'])\n",
        "history = model.fit(xs, ys, epochs=100, verbose=1)"
      ]
    },
    {
      "cell_type": "code",
      "execution_count": 25,
      "metadata": {
        "colab": {
          "base_uri": "https://localhost:8080/",
          "height": 449
        },
        "id": "hjyfRaNBRTvG",
        "outputId": "a0b344ba-da11-4457-bdca-81448fdf8ca2",
        "scrolled": true
      },
      "outputs": [
        {
          "output_type": "display_data",
          "data": {
            "text/plain": [
              "<Figure size 640x480 with 1 Axes>"
            ],
            "image/png": "[encoded data removed]"
          },
          "metadata": {}
        }
      ],
      "source": [
        "plt.plot(history.history['accuracy'])\n",
        "plt.xlabel('epochs')\n",
        "plt.ylabel('accuracy')\n",
        "plt.show()"
      ]
    },
    {
      "cell_type": "code",
      "execution_count": 26,
      "metadata": {
        "colab": {
          "base_uri": "https://localhost:8080/"
        },
        "id": "8dLyoXjMRTvG",
        "outputId": "324c197e-7834-4169-80ec-42255c9e01e8"
      },
      "outputs": [
        {
          "output_type": "stream",
          "name": "stdout",
          "text": [
            "1/1 [==============================] - 2s 2s/step\n",
            "1/1 [==============================] - 0s 33ms/step\n",
            "1/1 [==============================] - 0s 21ms/step\n",
            "1/1 [==============================] - 0s 19ms/step\n",
            "1/1 [==============================] - 0s 21ms/step\n",
            "1/1 [==============================] - 0s 18ms/step\n",
            "1/1 [==============================] - 0s 18ms/step\n",
            "1/1 [==============================] - 0s 17ms/step\n",
            "1/1 [==============================] - 0s 21ms/step\n",
            "1/1 [==============================] - 0s 19ms/step\n",
            "갈릴레오 않는 나를 걸어서 가르치려 않는 내가 소중한 내가 고민만이 흘러\n"
          ]
        }
      ],
      "source": [
        "#seed_text = \"sweet jeremy saw dublin\"\n",
        "seed_text =\"갈릴레오\"\n",
        "next_words=10\n",
        "for _ in range(next_words):\n",
        "    token_list = tokenizer.texts_to_sequences([seed_text])[0]\n",
        "    token_list = pad_sequences([token_list],  maxlen=window_size-1, padding='pre')\n",
        "    predicted = np.argmax(model.predict(token_list), axis=-1)\n",
        "    output_word = \"\"\n",
        "\n",
        "    for word, index in tokenizer.word_index.items():\n",
        "        if index == predicted:\n",
        "            output_word = word\n",
        "            break\n",
        "    seed_text += \" \" + output_word\n",
        "\n",
        "print(seed_text)"
      ]
    },
    {
      "cell_type": "markdown",
      "metadata": {
        "id": "EDsE3u96RTvH"
      },
      "source": [
        "하이퍼파라미터 변경"
      ]
    },
    {
      "cell_type": "code",
      "execution_count": 27,
      "metadata": {
        "id": "Ams6EYl4RTvH"
      },
      "outputs": [],
      "source": [
        "window_size = 6\n",
        "sentences = []\n",
        "alltext = []\n",
        "range_size = len(words)-window_size\n",
        "for i in range(0, range_size):\n",
        "    thissentence=\"\"\n",
        "    for word in range(0, window_size-1):\n",
        "        word = words[i+word]\n",
        "        thissentence = thissentence + word\n",
        "        thissentence = thissentence + \" \"\n",
        "    sentences.append(thissentence)"
      ]
    },
    {
      "cell_type": "code",
      "execution_count": 28,
      "metadata": {
        "colab": {
          "base_uri": "https://localhost:8080/"
        },
        "id": "-5uzr4FsRTvH",
        "outputId": "769588ab-6aaa-42c5-e9fd-1b05727cf20d"
      },
      "outputs": [
        {
          "output_type": "stream",
          "name": "stdout",
          "text": [
            "Epoch 1/100\n",
            "24/24 [==============================] - 9s 116ms/step - loss: 6.3717 - accuracy: 0.0266\n",
            "Epoch 2/100\n",
            "24/24 [==============================] - 2s 76ms/step - loss: 5.9439 - accuracy: 0.0133\n",
            "Epoch 3/100\n",
            "24/24 [==============================] - 1s 31ms/step - loss: 5.6259 - accuracy: 0.0293\n",
            "Epoch 4/100\n",
            "24/24 [==============================] - 1s 36ms/step - loss: 5.4004 - accuracy: 0.0466\n",
            "Epoch 5/100\n",
            "24/24 [==============================] - 1s 61ms/step - loss: 5.2161 - accuracy: 0.0413\n",
            "Epoch 6/100\n",
            "24/24 [==============================] - 0s 17ms/step - loss: 4.9647 - accuracy: 0.0599\n",
            "Epoch 7/100\n",
            "24/24 [==============================] - 0s 16ms/step - loss: 4.6212 - accuracy: 0.0799\n",
            "Epoch 8/100\n",
            "24/24 [==============================] - 0s 9ms/step - loss: 4.3414 - accuracy: 0.0919\n",
            "Epoch 9/100\n",
            "24/24 [==============================] - 0s 9ms/step - loss: 3.9506 - accuracy: 0.1438\n",
            "Epoch 10/100\n",
            "24/24 [==============================] - 0s 15ms/step - loss: 3.5808 - accuracy: 0.1731\n",
            "Epoch 11/100\n",
            "24/24 [==============================] - 0s 9ms/step - loss: 3.2184 - accuracy: 0.2277\n",
            "Epoch 12/100\n",
            "24/24 [==============================] - 0s 15ms/step - loss: 2.9325 - accuracy: 0.2983\n",
            "Epoch 13/100\n",
            "24/24 [==============================] - 0s 15ms/step - loss: 2.6302 - accuracy: 0.3276\n",
            "Epoch 14/100\n",
            "24/24 [==============================] - 0s 15ms/step - loss: 2.3466 - accuracy: 0.3822\n",
            "Epoch 15/100\n",
            "24/24 [==============================] - 0s 18ms/step - loss: 2.1067 - accuracy: 0.4368\n",
            "Epoch 16/100\n",
            "24/24 [==============================] - 0s 15ms/step - loss: 1.8504 - accuracy: 0.5166\n",
            "Epoch 17/100\n",
            "24/24 [==============================] - 0s 9ms/step - loss: 1.6898 - accuracy: 0.5446\n",
            "Epoch 18/100\n",
            "24/24 [==============================] - 0s 16ms/step - loss: 1.4295 - accuracy: 0.6059\n",
            "Epoch 19/100\n",
            "24/24 [==============================] - 0s 17ms/step - loss: 1.2853 - accuracy: 0.6365\n",
            "Epoch 20/100\n",
            "24/24 [==============================] - 0s 9ms/step - loss: 1.0862 - accuracy: 0.7164\n",
            "Epoch 21/100\n",
            "24/24 [==============================] - 1s 28ms/step - loss: 0.9773 - accuracy: 0.7510\n",
            "Epoch 22/100\n",
            "24/24 [==============================] - 0s 10ms/step - loss: 0.8468 - accuracy: 0.7816\n",
            "Epoch 23/100\n",
            "24/24 [==============================] - 0s 10ms/step - loss: 0.7485 - accuracy: 0.8056\n",
            "Epoch 24/100\n",
            "24/24 [==============================] - 0s 17ms/step - loss: 0.7308 - accuracy: 0.8123\n",
            "Epoch 25/100\n",
            "24/24 [==============================] - 0s 17ms/step - loss: 0.6400 - accuracy: 0.8309\n",
            "Epoch 26/100\n",
            "24/24 [==============================] - 1s 24ms/step - loss: 0.5649 - accuracy: 0.8535\n",
            "Epoch 27/100\n",
            "24/24 [==============================] - 0s 14ms/step - loss: 0.4907 - accuracy: 0.8708\n",
            "Epoch 28/100\n",
            "24/24 [==============================] - 1s 24ms/step - loss: 0.4493 - accuracy: 0.8815\n",
            "Epoch 29/100\n",
            "24/24 [==============================] - 0s 13ms/step - loss: 0.3838 - accuracy: 0.9041\n",
            "Epoch 30/100\n",
            "24/24 [==============================] - 0s 13ms/step - loss: 0.3255 - accuracy: 0.9161\n",
            "Epoch 31/100\n",
            "24/24 [==============================] - 0s 10ms/step - loss: 0.3137 - accuracy: 0.9228\n",
            "Epoch 32/100\n",
            "24/24 [==============================] - 0s 9ms/step - loss: 0.3000 - accuracy: 0.9174\n",
            "Epoch 33/100\n",
            "24/24 [==============================] - 0s 9ms/step - loss: 0.2674 - accuracy: 0.9188\n",
            "Epoch 34/100\n",
            "24/24 [==============================] - 0s 9ms/step - loss: 0.2544 - accuracy: 0.9188\n",
            "Epoch 35/100\n",
            "24/24 [==============================] - 0s 10ms/step - loss: 0.2399 - accuracy: 0.9188\n",
            "Epoch 36/100\n",
            "24/24 [==============================] - 0s 10ms/step - loss: 0.2191 - accuracy: 0.9334\n",
            "Epoch 37/100\n",
            "24/24 [==============================] - 0s 9ms/step - loss: 0.2400 - accuracy: 0.9161\n",
            "Epoch 38/100\n",
            "24/24 [==============================] - 0s 9ms/step - loss: 0.2232 - accuracy: 0.9228\n",
            "Epoch 39/100\n",
            "24/24 [==============================] - 0s 9ms/step - loss: 0.2149 - accuracy: 0.9214\n",
            "Epoch 40/100\n",
            "24/24 [==============================] - 0s 10ms/step - loss: 0.2140 - accuracy: 0.9201\n",
            "Epoch 41/100\n",
            "24/24 [==============================] - 0s 9ms/step - loss: 0.2161 - accuracy: 0.9214\n",
            "Epoch 42/100\n",
            "24/24 [==============================] - 0s 9ms/step - loss: 0.2054 - accuracy: 0.9095\n",
            "Epoch 43/100\n",
            "24/24 [==============================] - 0s 9ms/step - loss: 0.2063 - accuracy: 0.9268\n",
            "Epoch 44/100\n",
            "24/24 [==============================] - 0s 10ms/step - loss: 0.1967 - accuracy: 0.9241\n",
            "Epoch 45/100\n",
            "24/24 [==============================] - 0s 9ms/step - loss: 0.2021 - accuracy: 0.9174\n",
            "Epoch 46/100\n",
            "24/24 [==============================] - 0s 9ms/step - loss: 0.1932 - accuracy: 0.9188\n",
            "Epoch 47/100\n",
            "24/24 [==============================] - 0s 9ms/step - loss: 0.2093 - accuracy: 0.9188\n",
            "Epoch 48/100\n",
            "24/24 [==============================] - 0s 9ms/step - loss: 0.1975 - accuracy: 0.9214\n",
            "Epoch 49/100\n",
            "24/24 [==============================] - 0s 10ms/step - loss: 0.2285 - accuracy: 0.9095\n",
            "Epoch 50/100\n",
            "24/24 [==============================] - 0s 9ms/step - loss: 0.2749 - accuracy: 0.9028\n",
            "Epoch 51/100\n",
            "24/24 [==============================] - 0s 15ms/step - loss: 0.3639 - accuracy: 0.8762\n",
            "Epoch 52/100\n",
            "24/24 [==============================] - 0s 9ms/step - loss: 0.3985 - accuracy: 0.8748\n",
            "Epoch 53/100\n",
            "24/24 [==============================] - 0s 10ms/step - loss: 0.4148 - accuracy: 0.8708\n",
            "Epoch 54/100\n",
            "24/24 [==============================] - 0s 9ms/step - loss: 0.4818 - accuracy: 0.8628\n",
            "Epoch 55/100\n",
            "24/24 [==============================] - 0s 9ms/step - loss: 0.5374 - accuracy: 0.8362\n",
            "Epoch 56/100\n",
            "24/24 [==============================] - 0s 9ms/step - loss: 0.5733 - accuracy: 0.8069\n",
            "Epoch 57/100\n",
            "24/24 [==============================] - 0s 9ms/step - loss: 0.4882 - accuracy: 0.8482\n",
            "Epoch 58/100\n",
            "24/24 [==============================] - 0s 15ms/step - loss: 0.3654 - accuracy: 0.8828\n",
            "Epoch 59/100\n",
            "24/24 [==============================] - 0s 16ms/step - loss: 0.3137 - accuracy: 0.8908\n",
            "Epoch 60/100\n",
            "24/24 [==============================] - 0s 10ms/step - loss: 0.3297 - accuracy: 0.9001\n",
            "Epoch 61/100\n",
            "24/24 [==============================] - 0s 9ms/step - loss: 0.2313 - accuracy: 0.9095\n",
            "Epoch 62/100\n",
            "24/24 [==============================] - 0s 9ms/step - loss: 0.1957 - accuracy: 0.9268\n",
            "Epoch 63/100\n",
            "24/24 [==============================] - 0s 15ms/step - loss: 0.1823 - accuracy: 0.9268\n",
            "Epoch 64/100\n",
            "24/24 [==============================] - 0s 10ms/step - loss: 0.1777 - accuracy: 0.9214\n",
            "Epoch 65/100\n",
            "24/24 [==============================] - 0s 9ms/step - loss: 0.1696 - accuracy: 0.9214\n",
            "Epoch 66/100\n",
            "24/24 [==============================] - 0s 9ms/step - loss: 0.1728 - accuracy: 0.9308\n",
            "Epoch 67/100\n",
            "24/24 [==============================] - 0s 9ms/step - loss: 0.1638 - accuracy: 0.9228\n",
            "Epoch 68/100\n",
            "24/24 [==============================] - 0s 9ms/step - loss: 0.1668 - accuracy: 0.9188\n",
            "Epoch 69/100\n",
            "24/24 [==============================] - 0s 10ms/step - loss: 0.1671 - accuracy: 0.9361\n",
            "Epoch 70/100\n",
            "24/24 [==============================] - 0s 9ms/step - loss: 0.1643 - accuracy: 0.9228\n",
            "Epoch 71/100\n",
            "24/24 [==============================] - 0s 9ms/step - loss: 0.1587 - accuracy: 0.9254\n",
            "Epoch 72/100\n",
            "24/24 [==============================] - 0s 13ms/step - loss: 0.1615 - accuracy: 0.9281\n",
            "Epoch 73/100\n",
            "24/24 [==============================] - 0s 15ms/step - loss: 0.1725 - accuracy: 0.9161\n",
            "Epoch 74/100\n",
            "24/24 [==============================] - 0s 14ms/step - loss: 0.1620 - accuracy: 0.9254\n",
            "Epoch 75/100\n",
            "24/24 [==============================] - 0s 14ms/step - loss: 0.1704 - accuracy: 0.9294\n",
            "Epoch 76/100\n",
            "24/24 [==============================] - 0s 13ms/step - loss: 0.1644 - accuracy: 0.9294\n",
            "Epoch 77/100\n",
            "24/24 [==============================] - 0s 14ms/step - loss: 0.1602 - accuracy: 0.9281\n",
            "Epoch 78/100\n",
            "24/24 [==============================] - 0s 18ms/step - loss: 0.1614 - accuracy: 0.9201\n",
            "Epoch 79/100\n",
            "24/24 [==============================] - 0s 10ms/step - loss: 0.1597 - accuracy: 0.9241\n",
            "Epoch 80/100\n",
            "24/24 [==============================] - 0s 9ms/step - loss: 0.1577 - accuracy: 0.9348\n",
            "Epoch 81/100\n",
            "24/24 [==============================] - 0s 9ms/step - loss: 0.1493 - accuracy: 0.9254\n",
            "Epoch 82/100\n",
            "24/24 [==============================] - 0s 9ms/step - loss: 0.1574 - accuracy: 0.9268\n",
            "Epoch 83/100\n",
            "24/24 [==============================] - 0s 16ms/step - loss: 0.1581 - accuracy: 0.9268\n",
            "Epoch 84/100\n",
            "24/24 [==============================] - 0s 9ms/step - loss: 0.1575 - accuracy: 0.9228\n",
            "Epoch 85/100\n",
            "24/24 [==============================] - 0s 9ms/step - loss: 0.1570 - accuracy: 0.9308\n",
            "Epoch 86/100\n",
            "24/24 [==============================] - 0s 9ms/step - loss: 0.1624 - accuracy: 0.9254\n",
            "Epoch 87/100\n",
            "24/24 [==============================] - 0s 9ms/step - loss: 0.1602 - accuracy: 0.9321\n",
            "Epoch 88/100\n",
            "24/24 [==============================] - 0s 9ms/step - loss: 0.1562 - accuracy: 0.9294\n",
            "Epoch 89/100\n",
            "24/24 [==============================] - 0s 9ms/step - loss: 0.1500 - accuracy: 0.9334\n",
            "Epoch 90/100\n",
            "24/24 [==============================] - 0s 15ms/step - loss: 0.1526 - accuracy: 0.9241\n",
            "Epoch 91/100\n",
            "24/24 [==============================] - 0s 11ms/step - loss: 0.1540 - accuracy: 0.9228\n",
            "Epoch 92/100\n",
            "24/24 [==============================] - 0s 10ms/step - loss: 0.1544 - accuracy: 0.9254\n",
            "Epoch 93/100\n",
            "24/24 [==============================] - 0s 14ms/step - loss: 0.1472 - accuracy: 0.9254\n",
            "Epoch 94/100\n",
            "24/24 [==============================] - 0s 17ms/step - loss: 0.1483 - accuracy: 0.9254\n",
            "Epoch 95/100\n",
            "24/24 [==============================] - 0s 15ms/step - loss: 0.1514 - accuracy: 0.9254\n",
            "Epoch 96/100\n",
            "24/24 [==============================] - 0s 9ms/step - loss: 0.1492 - accuracy: 0.9308\n",
            "Epoch 97/100\n",
            "24/24 [==============================] - 0s 10ms/step - loss: 0.1527 - accuracy: 0.9308\n",
            "Epoch 98/100\n",
            "24/24 [==============================] - 0s 10ms/step - loss: 0.1473 - accuracy: 0.9294\n",
            "Epoch 99/100\n",
            "24/24 [==============================] - 1s 21ms/step - loss: 0.1554 - accuracy: 0.9214\n",
            "Epoch 100/100\n",
            "24/24 [==============================] - 0s 19ms/step - loss: 0.1546 - accuracy: 0.9201\n"
          ]
        }
      ],
      "source": [
        "model = Sequential()\n",
        "model.add(Embedding(total_words, 16))\n",
        "model.add(Bidirectional(LSTM(32, return_sequences='True')))\n",
        "model.add(Bidirectional(LSTM(32)))\n",
        "model.add(Dense(total_words, activation='softmax'))\n",
        "adam = Adam(learning_rate=0.01)\n",
        "model.compile(loss='categorical_crossentropy', optimizer=adam,\n",
        "              metrics=['accuracy'])\n",
        "history = model.fit(xs, ys, epochs=100, verbose=1)"
      ]
    },
    {
      "cell_type": "code",
      "execution_count": 29,
      "metadata": {
        "colab": {
          "base_uri": "https://localhost:8080/",
          "height": 449
        },
        "id": "UpbCJWC0RTvH",
        "outputId": "68890159-2f92-483f-b52e-fa8aa397db7f"
      },
      "outputs": [
        {
          "output_type": "display_data",
          "data": {
            "text/plain": [
              "<Figure size 640x480 with 1 Axes>"
            ],
            "image/png": "[encoded data removed]"
          },
          "metadata": {}
        }
      ],
      "source": [
        "plt.plot(history.history['accuracy'])\n",
        "plt.xlabel('epochs')\n",
        "plt.ylabel('accuracy')\n",
        "plt.show()"
      ]
    },
    {
      "cell_type": "code",
      "execution_count": 30,
      "metadata": {
        "colab": {
          "base_uri": "https://localhost:8080/"
        },
        "id": "QQXTh9BiRTvH",
        "outputId": "82a4c8e7-8199-4137-8599-83b0318c11f7"
      },
      "outputs": [
        {
          "output_type": "stream",
          "name": "stdout",
          "text": [
            "1/1 [==============================] - 2s 2s/step\n",
            "1/1 [==============================] - 0s 27ms/step\n",
            "1/1 [==============================] - 0s 30ms/step\n",
            "1/1 [==============================] - 0s 33ms/step\n",
            "1/1 [==============================] - 0s 32ms/step\n",
            "1/1 [==============================] - 0s 32ms/step\n",
            "1/1 [==============================] - 0s 18ms/step\n",
            "1/1 [==============================] - 0s 19ms/step\n",
            "1/1 [==============================] - 0s 17ms/step\n",
            "1/1 [==============================] - 0s 18ms/step\n",
            "갈릴레오 떨지도 말 것 더 강한 것 더 강한 것 더\n"
          ]
        }
      ],
      "source": [
        "#seed_text = \"sweet jeremy saw dublin\"\n",
        "seed_text = \"갈릴레오\"\n",
        "next_words=10\n",
        "\n",
        "for _ in range(next_words):\n",
        "    token_list = tokenizer.texts_to_sequences([seed_text])[0]\n",
        "    token_list = pad_sequences([token_list],  maxlen=window_size-1, padding='pre')\n",
        "    predicted = np.argmax(model.predict(token_list), axis=-1)\n",
        "    output_word = \"\"\n",
        "\n",
        "    for word, index in tokenizer.word_index.items():\n",
        "        if index == predicted:\n",
        "            output_word = word\n",
        "            break\n",
        "    seed_text += \" \" + output_word\n",
        "\n",
        "print(seed_text)"
      ]
    },
    {
      "cell_type": "code",
      "source": [],
      "metadata": {
        "id": "ZnVA-UR3-j9o"
      },
      "execution_count": 39,
      "outputs": []
    }
  ],
  "metadata": {
    "accelerator": "GPU",
    "colab": {
      "provenance": [],
      "include_colab_link": true
    },
    "environment": {
      "kernel": "python3",
      "name": "common-cpu.m102",
      "type": "gcloud",
      "uri": "gcr.io/deeplearning-platform-release/base-cpu:m102"
    },
    "gpuClass": "standard",
    "kernelspec": {
      "display_name": "Python 3",
      "language": "python",
      "name": "python3"
    },
    "language_info": {
      "codemirror_mode": {
        "name": "ipython",
        "version": 3
      },
      "file_extension": ".py",
      "mimetype": "text/x-python",
      "name": "python",
      "nbconvert_exporter": "python",
      "pygments_lexer": "ipython3",
      "version": "3.7.12"
    }
  },
  "nbformat": 4,
  "nbformat_minor": 0
}